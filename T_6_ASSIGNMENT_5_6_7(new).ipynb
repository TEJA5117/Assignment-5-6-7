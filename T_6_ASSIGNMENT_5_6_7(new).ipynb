{
  "cells": [
    {
      "cell_type": "code",
      "execution_count": 28,
      "metadata": {
        "id": "-cpsaz22VAKO"
      },
      "outputs": [],
      "source": [
        "import pandas as pd\n",
        "import matplotlib.pyplot as plt\n",
        "import numpy as np\n",
        "from sklearn import linear_model\n",
        "from sklearn.linear_model import LinearRegression\n",
        "from sklearn.model_selection import train_test_split\n",
        "from sklearn import metrics\n"
      ]
    },
    {
      "cell_type": "markdown",
      "metadata": {
        "id": "3dpPk-kqVAKa"
      },
      "source": [
        "# Assignment5\n"
      ]
    },
    {
      "cell_type": "markdown",
      "metadata": {
        "id": "p1hE87NFVAKf"
      },
      "source": [
        "## Ground Cricket Chirps\n",
        "\n",
        "In _The Song of Insects_ (1948) by George W. Pierce, Pierce mechanically measured the frequency (the number of wing vibrations per second) of chirps (or pulses of sound) made by a striped ground cricket, at various ground temperatures.  Since crickets are ectotherms (cold-blooded), the rate of their physiological processes and their overall metabolism are influenced by temperature.  Consequently, there is reason to believe that temperature would have a profound effect on aspects of their behavior, such as chirp frequency.\n",
        "\n",
        "In general, it was found that crickets did not sing at temperatures colder than 60º F. or warmer than 100º F.\n",
        "\n",
        "### Tasks\n",
        "\n",
        "1. Find the linear regression equation for this data.\n",
        "2. Chart the original data and the equation on the chart.\n",
        "3. Find the equation's $R^2$ score (use the `.score` method) to determine whether the\n",
        "equation is a good fit for this data. (0.8 and greater is considered a strong correlation.)\n",
        "4. Extrapolate data:  If the ground temperature reached 95, then at what approximate rate would you expect the crickets to be chirping?\n",
        "5. Interpolate data:  With a listening device, you discovered that on a particular morning the crickets were chirping at a rate of 18 chirps per second.  What was the approximate ground temperature that morning? "
      ]
    },
    {
      "cell_type": "code",
      "execution_count": 29,
      "metadata": {
        "colab": {
          "base_uri": "https://localhost:8080/",
          "height": 520
        },
        "id": "gBjpEXHhVAKi",
        "outputId": "ea5867d6-592d-4e8c-bf8a-b3c5988eee27"
      },
      "outputs": [
        {
          "output_type": "execute_result",
          "data": {
            "text/html": [
              "\n",
              "  <div id=\"df-61435436-d47b-4e2d-8406-61dd3b505512\">\n",
              "    <div class=\"colab-df-container\">\n",
              "      <div>\n",
              "<style scoped>\n",
              "    .dataframe tbody tr th:only-of-type {\n",
              "        vertical-align: middle;\n",
              "    }\n",
              "\n",
              "    .dataframe tbody tr th {\n",
              "        vertical-align: top;\n",
              "    }\n",
              "\n",
              "    .dataframe thead th {\n",
              "        text-align: right;\n",
              "    }\n",
              "</style>\n",
              "<table border=\"1\" class=\"dataframe\">\n",
              "  <thead>\n",
              "    <tr style=\"text-align: right;\">\n",
              "      <th></th>\n",
              "      <th>Chirps/Second</th>\n",
              "      <th>Ground Temperature</th>\n",
              "    </tr>\n",
              "  </thead>\n",
              "  <tbody>\n",
              "    <tr>\n",
              "      <th>0</th>\n",
              "      <td>20.0</td>\n",
              "      <td>88.6</td>\n",
              "    </tr>\n",
              "    <tr>\n",
              "      <th>1</th>\n",
              "      <td>16.0</td>\n",
              "      <td>71.6</td>\n",
              "    </tr>\n",
              "    <tr>\n",
              "      <th>2</th>\n",
              "      <td>19.8</td>\n",
              "      <td>93.3</td>\n",
              "    </tr>\n",
              "    <tr>\n",
              "      <th>3</th>\n",
              "      <td>18.4</td>\n",
              "      <td>84.3</td>\n",
              "    </tr>\n",
              "    <tr>\n",
              "      <th>4</th>\n",
              "      <td>17.1</td>\n",
              "      <td>80.6</td>\n",
              "    </tr>\n",
              "    <tr>\n",
              "      <th>5</th>\n",
              "      <td>15.5</td>\n",
              "      <td>75.2</td>\n",
              "    </tr>\n",
              "    <tr>\n",
              "      <th>6</th>\n",
              "      <td>14.7</td>\n",
              "      <td>69.7</td>\n",
              "    </tr>\n",
              "    <tr>\n",
              "      <th>7</th>\n",
              "      <td>15.7</td>\n",
              "      <td>71.6</td>\n",
              "    </tr>\n",
              "    <tr>\n",
              "      <th>8</th>\n",
              "      <td>15.4</td>\n",
              "      <td>69.4</td>\n",
              "    </tr>\n",
              "    <tr>\n",
              "      <th>9</th>\n",
              "      <td>16.3</td>\n",
              "      <td>83.3</td>\n",
              "    </tr>\n",
              "    <tr>\n",
              "      <th>10</th>\n",
              "      <td>15.0</td>\n",
              "      <td>79.6</td>\n",
              "    </tr>\n",
              "    <tr>\n",
              "      <th>11</th>\n",
              "      <td>17.2</td>\n",
              "      <td>82.6</td>\n",
              "    </tr>\n",
              "    <tr>\n",
              "      <th>12</th>\n",
              "      <td>16.0</td>\n",
              "      <td>80.6</td>\n",
              "    </tr>\n",
              "    <tr>\n",
              "      <th>13</th>\n",
              "      <td>17.0</td>\n",
              "      <td>83.5</td>\n",
              "    </tr>\n",
              "    <tr>\n",
              "      <th>14</th>\n",
              "      <td>14.4</td>\n",
              "      <td>76.3</td>\n",
              "    </tr>\n",
              "  </tbody>\n",
              "</table>\n",
              "</div>\n",
              "      <button class=\"colab-df-convert\" onclick=\"convertToInteractive('df-61435436-d47b-4e2d-8406-61dd3b505512')\"\n",
              "              title=\"Convert this dataframe to an interactive table.\"\n",
              "              style=\"display:none;\">\n",
              "        \n",
              "  <svg xmlns=\"http://www.w3.org/2000/svg\" height=\"24px\"viewBox=\"0 0 24 24\"\n",
              "       width=\"24px\">\n",
              "    <path d=\"M0 0h24v24H0V0z\" fill=\"none\"/>\n",
              "    <path d=\"M18.56 5.44l.94 2.06.94-2.06 2.06-.94-2.06-.94-.94-2.06-.94 2.06-2.06.94zm-11 1L8.5 8.5l.94-2.06 2.06-.94-2.06-.94L8.5 2.5l-.94 2.06-2.06.94zm10 10l.94 2.06.94-2.06 2.06-.94-2.06-.94-.94-2.06-.94 2.06-2.06.94z\"/><path d=\"M17.41 7.96l-1.37-1.37c-.4-.4-.92-.59-1.43-.59-.52 0-1.04.2-1.43.59L10.3 9.45l-7.72 7.72c-.78.78-.78 2.05 0 2.83L4 21.41c.39.39.9.59 1.41.59.51 0 1.02-.2 1.41-.59l7.78-7.78 2.81-2.81c.8-.78.8-2.07 0-2.86zM5.41 20L4 18.59l7.72-7.72 1.47 1.35L5.41 20z\"/>\n",
              "  </svg>\n",
              "      </button>\n",
              "      \n",
              "  <style>\n",
              "    .colab-df-container {\n",
              "      display:flex;\n",
              "      flex-wrap:wrap;\n",
              "      gap: 12px;\n",
              "    }\n",
              "\n",
              "    .colab-df-convert {\n",
              "      background-color: #E8F0FE;\n",
              "      border: none;\n",
              "      border-radius: 50%;\n",
              "      cursor: pointer;\n",
              "      display: none;\n",
              "      fill: #1967D2;\n",
              "      height: 32px;\n",
              "      padding: 0 0 0 0;\n",
              "      width: 32px;\n",
              "    }\n",
              "\n",
              "    .colab-df-convert:hover {\n",
              "      background-color: #E2EBFA;\n",
              "      box-shadow: 0px 1px 2px rgba(60, 64, 67, 0.3), 0px 1px 3px 1px rgba(60, 64, 67, 0.15);\n",
              "      fill: #174EA6;\n",
              "    }\n",
              "\n",
              "    [theme=dark] .colab-df-convert {\n",
              "      background-color: #3B4455;\n",
              "      fill: #D2E3FC;\n",
              "    }\n",
              "\n",
              "    [theme=dark] .colab-df-convert:hover {\n",
              "      background-color: #434B5C;\n",
              "      box-shadow: 0px 1px 3px 1px rgba(0, 0, 0, 0.15);\n",
              "      filter: drop-shadow(0px 1px 2px rgba(0, 0, 0, 0.3));\n",
              "      fill: #FFFFFF;\n",
              "    }\n",
              "  </style>\n",
              "\n",
              "      <script>\n",
              "        const buttonEl =\n",
              "          document.querySelector('#df-61435436-d47b-4e2d-8406-61dd3b505512 button.colab-df-convert');\n",
              "        buttonEl.style.display =\n",
              "          google.colab.kernel.accessAllowed ? 'block' : 'none';\n",
              "\n",
              "        async function convertToInteractive(key) {\n",
              "          const element = document.querySelector('#df-61435436-d47b-4e2d-8406-61dd3b505512');\n",
              "          const dataTable =\n",
              "            await google.colab.kernel.invokeFunction('convertToInteractive',\n",
              "                                                     [key], {});\n",
              "          if (!dataTable) return;\n",
              "\n",
              "          const docLinkHtml = 'Like what you see? Visit the ' +\n",
              "            '<a target=\"_blank\" href=https://colab.research.google.com/notebooks/data_table.ipynb>data table notebook</a>'\n",
              "            + ' to learn more about interactive tables.';\n",
              "          element.innerHTML = '';\n",
              "          dataTable['output_type'] = 'display_data';\n",
              "          await google.colab.output.renderOutput(dataTable, element);\n",
              "          const docLink = document.createElement('div');\n",
              "          docLink.innerHTML = docLinkHtml;\n",
              "          element.appendChild(docLink);\n",
              "        }\n",
              "      </script>\n",
              "    </div>\n",
              "  </div>\n",
              "  "
            ],
            "text/plain": [
              "    Chirps/Second  Ground Temperature\n",
              "0            20.0                88.6\n",
              "1            16.0                71.6\n",
              "2            19.8                93.3\n",
              "3            18.4                84.3\n",
              "4            17.1                80.6\n",
              "5            15.5                75.2\n",
              "6            14.7                69.7\n",
              "7            15.7                71.6\n",
              "8            15.4                69.4\n",
              "9            16.3                83.3\n",
              "10           15.0                79.6\n",
              "11           17.2                82.6\n",
              "12           16.0                80.6\n",
              "13           17.0                83.5\n",
              "14           14.4                76.3"
            ]
          },
          "metadata": {},
          "execution_count": 29
        }
      ],
      "source": [
        "ground_cricket_data = {\"Chirps/Second\": [20.0, 16.0, 19.8, 18.4, 17.1, 15.5, 14.7,\n",
        "                                         15.7, 15.4, 16.3, 15.0, 17.2, 16.0, 17.0,\n",
        "                                         14.4],\n",
        "                       \"Ground Temperature\": [88.6, 71.6, 93.3, 84.3, 80.6, 75.2, 69.7,\n",
        "                                              71.6, 69.4, 83.3, 79.6, 82.6, 80.6, 83.5,\n",
        "                                              76.3]}\n",
        "df = pd.DataFrame(ground_cricket_data)\n",
        "df"
      ]
    },
    {
      "cell_type": "code",
      "execution_count": 30,
      "metadata": {
        "colab": {
          "base_uri": "https://localhost:8080/",
          "height": 366
        },
        "id": "3UDPnUXTVAKl",
        "outputId": "4671e851-4fd1-4618-a412-4c21ae5f6f47"
      },
      "outputs": [
        {
          "output_type": "stream",
          "name": "stdout",
          "text": [
            "Error score of training dataset 0.6813394128565424\n",
            "coffecient [[0.20119124]]\n",
            "Intercept [0.60051489]\n",
            "Error score of testing dataset 0.9265616592526871\n"
          ]
        },
        {
          "output_type": "execute_result",
          "data": {
            "text/plain": [
              "[<matplotlib.lines.Line2D at 0x7f5d5f6ee0d0>]"
            ]
          },
          "metadata": {},
          "execution_count": 30
        },
        {
          "output_type": "display_data",
          "data": {
            "image/png": "[encoded data removed]",
            "text/plain": [
              "<Figure size 432x288 with 1 Axes>"
            ]
          },
          "metadata": {
            "needs_background": "light"
          }
        }
      ],
      "source": [
        "# with splitting the data with training and testing\n",
        "# Load the data\n",
        "temp=df.drop(\"Chirps/Second\", axis='columns')\n",
        "chirps=df[\"Chirps/Second\"]\n",
        "\n",
        "# split the data for training and testing\n",
        "temp_train,temp_test,chirps_train,chirps_test = train_test_split(temp,chirps,test_size=0.2,random_state=2)\n",
        "\n",
        "#print(temp_train.shape,chirps_train.shape,temp_test.shape,chirps_test.shape)\n",
        "xtrain=temp_train.values.reshape(-1,1)\n",
        "ytrain=chirps_train.values.reshape(-1,1)\n",
        "xtest=temp_test.values.reshape(-1,1)\n",
        "ytest=chirps_test.values.reshape(-1,1)\n",
        "\n",
        "# Model Fitting\n",
        "lr=LinearRegression()\n",
        "lr.fit(xtrain,ytrain)\n",
        "Y_pred_train=lr.predict(xtrain)\n",
        "\n",
        "#print(Y_pred_train)\n",
        "er_scr=metrics.r2_score(ytrain,Y_pred_train)\n",
        "print(\"Error score of training dataset\", er_scr)\n",
        "test_pred=lr.predict(xtest)\n",
        "\n",
        "## 1.Find the linear regression equation for this data.\n",
        "print(\"coffecient\",lr.coef_)\n",
        "print(\"Intercept\",lr.intercept_)\n",
        "Yeq=(xtest*lr.coef_)+lr.intercept_\n",
        "#print(Yeq)\n",
        "\n",
        "\n",
        "## 3.Find the equation's  𝑅2  \n",
        "er_scr_test=metrics.r2_score(ytest,test_pred)\n",
        "print(\"Error score of testing dataset\",er_scr_test)\n",
        "\n",
        "lr.diff = pd.DataFrame({'Actual value': ytest.flatten(), 'Predicted value': test_pred.flatten()})\n",
        "#lr.diff.head()\n",
        "\n",
        "## 2.Chart the original data and the equation on the chart.\n",
        "plt.xlabel(\"Ground Temperature\")\n",
        "plt.ylabel(\"Chirps/Second\")\n",
        "plt.scatter(temp,chirps,color=\"red\",marker=\"+\")\n",
        "plt.plot(xtest,test_pred,color=\"blue\")"
      ]
    },
    {
      "cell_type": "code",
      "execution_count": 31,
      "metadata": {
        "id": "k1SWAWfvVAKp"
      },
      "outputs": [],
      "source": [
        "## Without splitting the data\n",
        "\n",
        "# Load the data\n",
        "X=df.drop(\"Chirps/Second\", axis='columns')\n",
        "Y=df[\"Chirps/Second\"]\n",
        "\n",
        "# Model Fitting\n",
        "lr=LinearRegression()\n",
        "lr.fit(X,Y)\n",
        "Y_pred=lr.predict(X)"
      ]
    },
    {
      "cell_type": "code",
      "execution_count": 32,
      "metadata": {
        "colab": {
          "base_uri": "https://localhost:8080/"
        },
        "id": "6sPO4P7WVAKq",
        "outputId": "7de4366c-232d-44d0-bf81-9b9f94a5f474"
      },
      "outputs": [
        {
          "output_type": "stream",
          "name": "stdout",
          "text": [
            "   Actual value  Predicted value\n",
            "0          20.0        18.445091\n",
            "1          16.0        14.994095\n",
            "2          19.8        19.399190\n",
            "3          18.4        17.572192\n",
            "4          17.1        16.821093\n",
            "coffecient [0.20299973]\n",
            "Intercept 0.45931464523595267\n"
          ]
        }
      ],
      "source": [
        "## 1.Find the linear regression equation for this data.\n",
        "lr.diff = pd.DataFrame({'Actual value': Y, 'Predicted value':Y_pred})\n",
        "print(lr.diff.head())\n",
        "print(\"coffecient\",lr.coef_)\n",
        "print(\"Intercept\",lr.intercept_)\n",
        "Yeq=(X*lr.coef_)+lr.intercept_"
      ]
    },
    {
      "cell_type": "code",
      "execution_count": 33,
      "metadata": {
        "colab": {
          "base_uri": "https://localhost:8080/",
          "height": 296
        },
        "id": "P0IWM856VAKt",
        "outputId": "a2fc5496-ac21-46b7-9ca6-2710fb669510"
      },
      "outputs": [
        {
          "output_type": "execute_result",
          "data": {
            "text/plain": [
              "[<matplotlib.lines.Line2D at 0x7f5d5f6d8490>]"
            ]
          },
          "metadata": {},
          "execution_count": 33
        },
        {
          "output_type": "display_data",
          "data": {
            "image/png": "[encoded data removed]",
            "text/plain": [
              "<Figure size 432x288 with 1 Axes>"
            ]
          },
          "metadata": {
            "needs_background": "light"
          }
        }
      ],
      "source": [
        "## 2.Chart the original data and the equation on the chart.\n",
        "plt.xlabel(\"Ground Temperature\")\n",
        "plt.ylabel(\"Chirps/Second\")\n",
        "plt.scatter(X,Y,color=\"red\",marker=\"+\")\n",
        "plt.plot(X,Yeq,color=\"blue\")"
      ]
    },
    {
      "cell_type": "code",
      "execution_count": 34,
      "metadata": {
        "colab": {
          "base_uri": "https://localhost:8080/"
        },
        "id": "pjtHXhOTVAKu",
        "outputId": "efe1fe0c-047a-43e0-bcf1-b8f8afe10cc0"
      },
      "outputs": [
        {
          "output_type": "stream",
          "name": "stdout",
          "text": [
            "Error score = 0.6922946529146998\n"
          ]
        }
      ],
      "source": [
        "## 3.Find the equation's  𝑅2  \n",
        "er_scr=metrics.r2_score(Y,Y_pred)\n",
        "print(\"Error score =\", er_scr)"
      ]
    },
    {
      "cell_type": "code",
      "execution_count": 35,
      "metadata": {
        "colab": {
          "base_uri": "https://localhost:8080/"
        },
        "id": "uxtK6cuLVAKw",
        "outputId": "6843ac56-965b-46f5-e587-c093586630a4"
      },
      "outputs": [
        {
          "output_type": "stream",
          "name": "stdout",
          "text": [
            "[19.74428913]\n"
          ]
        }
      ],
      "source": [
        "## 4. Extrapolate data: If the ground temperature reached 95, then at what approximate rate would you expect the crickets to be chirping?\n",
        "Yeq=(95*lr.coef_)+lr.intercept_\n",
        "print(Yeq)"
      ]
    },
    {
      "cell_type": "code",
      "execution_count": 36,
      "metadata": {
        "colab": {
          "base_uri": "https://localhost:8080/"
        },
        "id": "yHWJEGz3VAKz",
        "outputId": "bdda9a34-a0a7-43e7-f2ef-cb86c5347c55"
      },
      "outputs": [
        {
          "output_type": "execute_result",
          "data": {
            "text/plain": [
              "array([86.40743135])"
            ]
          },
          "metadata": {},
          "execution_count": 36
        }
      ],
      "source": [
        "# 5.Interpolate data: With a listening device, you discovered that on a particular morning the crickets were chirping at a rate of 18 chirps per second. What was the approximate ground temperature that morning?\n",
        "xeq=18-lr.intercept_\n",
        "xeq/lr.coef_"
      ]
    },
    {
      "cell_type": "markdown",
      "metadata": {
        "id": "xwKNUmMpVAK0"
      },
      "source": [
        "# Assignment6"
      ]
    },
    {
      "cell_type": "markdown",
      "metadata": {
        "id": "eEpYgPOTVAK1"
      },
      "source": [
        "## Brain vs. Body Weight\n",
        "\n",
        "In the file `brain_body.txt`, the average brain and body weight for a number of mammal species are recorded. Load this data into a Pandas data frame.\n",
        "\n",
        "### Tasks\n",
        "\n",
        "1. Find the linear regression equation for this data for brain weight to body weight.\n",
        "2. Chart the original data and the equation on the chart.\n",
        "3. Find the equation's $R^2$ score (use the `.score` method) to determine whether the\n",
        "equation is a good fit for this data. (0.8 and greater is considered a strong correlation.)"
      ]
    },
    {
      "cell_type": "markdown",
      "metadata": {
        "id": "Ic_nb8DTVAK2"
      },
      "source": [
        "## 1. Find the linear regression equation for this data for brain weight to body weight.\n",
        "\n",
        "# with train test split\n",
        "\n",
        "# load the dataset\n",
        "brain_body= pd.read_csv(\"/content/brain_body.csv\")\n",
        "df1= pd.DataFrame(brain_body)\n",
        "\n",
        "import math\n",
        "x=np.log2(df1.brain)\n",
        "y=np.log2(df1.body)\n",
        "\n",
        "# split the training and testing data\n",
        "x_train,x_test,y_train,y_test=train_test_split(x, y, test_size=0.2, random_state=2)\n",
        "x_train = x_train.values.reshape(-1, 1)\n",
        "x_test = x_test.values.reshape(-1, 1)\n",
        "y_train = y_train.values.reshape(-1, 1)\n",
        "y_test = y_test.values.reshape(-1, 1)\n",
        "\n",
        "# Model fitting\n",
        "lr.fit(x_train,y_train)\n",
        "y_pred = lr.predict(x_train)\n",
        "r2=lr.score(y_train,y_pred)\n",
        "coeffecient=lr.coef_\n",
        "inter=lr.intercept_\n",
        "print(r2) \n",
        "\n",
        "# 3. Find the equation's  𝑅2  score\n",
        "# linear regression equation\n",
        "Y=(x_train*coeffecient)+inter\n",
        "y_pred_test= lr.predict(x_test)\n",
        "\n",
        "# r2 score\n",
        "erscore=lr.score(y_test,y_pred_test)\n",
        "print(\"error score=\",erscore)\n",
        "\n",
        "# 2. Chart the original data and the equation on the chart.\n",
        "plt.xlabel(\"Brain\")\n",
        "plt.ylabel(\"Body\")\n",
        "plt.scatter(x,y,color=\"red\",marker=\"+\")\n",
        "plt.plot(x_test,y_pred_test,color=\"blue\")"
      ]
    },
    {
      "cell_type": "code",
      "execution_count": 37,
      "metadata": {
        "colab": {
          "base_uri": "https://localhost:8080/",
          "height": 234
        },
        "id": "82pgKH3kVAK3",
        "outputId": "36481fc6-22d1-4bf5-cc88-48cbc4e89ccb"
      },
      "outputs": [
        {
          "output_type": "error",
          "ename": "NameError",
          "evalue": "ignored",
          "traceback": [
            "\u001b[0;31m---------------------------------------------------------------------------\u001b[0m",
            "\u001b[0;31mNameError\u001b[0m                                 Traceback (most recent call last)",
            "\u001b[0;32m<ipython-input-37-438e10d5f9b4>\u001b[0m in \u001b[0;36m<module>\u001b[0;34m()\u001b[0m\n\u001b[1;32m      1\u001b[0m \u001b[0;31m## same dataset without splitting the data\u001b[0m\u001b[0;34m\u001b[0m\u001b[0;34m\u001b[0m\u001b[0;34m\u001b[0m\u001b[0m\n\u001b[1;32m      2\u001b[0m \u001b[0;31m# load the dataset\u001b[0m\u001b[0;34m\u001b[0m\u001b[0;34m\u001b[0m\u001b[0;34m\u001b[0m\u001b[0m\n\u001b[0;32m----> 3\u001b[0;31m \u001b[0mx\u001b[0m\u001b[0;34m=\u001b[0m\u001b[0mnp\u001b[0m\u001b[0;34m.\u001b[0m\u001b[0mlog2\u001b[0m\u001b[0;34m(\u001b[0m\u001b[0mdf1\u001b[0m\u001b[0;34m.\u001b[0m\u001b[0mBrain\u001b[0m\u001b[0;34m)\u001b[0m\u001b[0;34m.\u001b[0m\u001b[0mvalues\u001b[0m\u001b[0;34m.\u001b[0m\u001b[0mreshape\u001b[0m\u001b[0;34m(\u001b[0m\u001b[0;34m-\u001b[0m\u001b[0;36m1\u001b[0m\u001b[0;34m,\u001b[0m\u001b[0;36m1\u001b[0m\u001b[0;34m)\u001b[0m\u001b[0;34m\u001b[0m\u001b[0;34m\u001b[0m\u001b[0m\n\u001b[0m\u001b[1;32m      4\u001b[0m \u001b[0my\u001b[0m\u001b[0;34m=\u001b[0m\u001b[0mnp\u001b[0m\u001b[0;34m.\u001b[0m\u001b[0mlog2\u001b[0m\u001b[0;34m(\u001b[0m\u001b[0mdf1\u001b[0m\u001b[0;34m.\u001b[0m\u001b[0mBody\u001b[0m\u001b[0;34m)\u001b[0m\u001b[0;34m.\u001b[0m\u001b[0mvalues\u001b[0m\u001b[0;34m.\u001b[0m\u001b[0mreshape\u001b[0m\u001b[0;34m(\u001b[0m\u001b[0;34m-\u001b[0m\u001b[0;36m1\u001b[0m\u001b[0;34m,\u001b[0m\u001b[0;36m1\u001b[0m\u001b[0;34m)\u001b[0m\u001b[0;34m\u001b[0m\u001b[0;34m\u001b[0m\u001b[0m\n\u001b[1;32m      5\u001b[0m \u001b[0;34m\u001b[0m\u001b[0m\n",
            "\u001b[0;31mNameError\u001b[0m: name 'df1' is not defined"
          ]
        }
      ],
      "source": [
        "## same dataset without splitting the data\n",
        "# load the dataset\n",
        "x=np.log2(df1.Brain).values.reshape(-1,1)\n",
        "y=np.log2(df1.Body).values.reshape(-1,1)\n",
        "\n",
        "# fit the model\n",
        "lr=LinearRegression()\n",
        "lr.fit(x,y)\n",
        "Y_pred=lr.predict(x)\n",
        "\n",
        "\n",
        "lr.diff = pd.DataFrame({'Actual value': y.flatten(), 'Predicted value':Y_pred.flatten()})\n",
        "print(lr.diff.head())\n"
      ]
    },
    {
      "cell_type": "code",
      "execution_count": null,
      "metadata": {
        "id": "D60UQ0KUVAK5"
      },
      "outputs": [],
      "source": [
        "## 1. Find the linear regression equation for this data for brain weight to body weight.\n",
        "\n",
        "# Equation of the model\n",
        "print(\"coffecient\",lr.coef_)\n",
        "print(\"Intercept\",lr.intercept_)\n",
        "Yeq=(x*lr.coef_)+lr.intercept_\n",
        "print(Yeq)\n"
      ]
    },
    {
      "cell_type": "code",
      "execution_count": null,
      "metadata": {
        "id": "dF4pN7-qVAK7"
      },
      "outputs": [],
      "source": [
        "## 2. Chart the original data and the equation on the chart.\n",
        "# plot the graph\n",
        "plt.xlabel(\"Ground Temperature\")\n",
        "plt.ylabel(\"Chirps/Second\")\n",
        "plt.scatter(x,y,color=\"red\",marker=\"+\")\n",
        "plt.plot(x,Yeq,color=\"blue\")"
      ]
    },
    {
      "cell_type": "code",
      "execution_count": null,
      "metadata": {
        "id": "dXxabUfEVAK8"
      },
      "outputs": [],
      "source": [
        "## 3. Find the equation's  𝑅2  score (use the .score method) to determine whether the equation is a good fit for this data. (0.8 and greater is considered a strong correlation.)\n",
        "\n",
        "er_scr=metrics.r2_score(y,Y_pred)\n",
        "print(\"Error score =\", er_scr)"
      ]
    },
    {
      "cell_type": "markdown",
      "metadata": {
        "id": "kANLEFgiVAK9"
      },
      "source": [
        "# Assignment7"
      ]
    },
    {
      "cell_type": "markdown",
      "metadata": {
        "id": "xbWQAbqeVAK9"
      },
      "source": [
        "## Salary Discrimination\n",
        "\n",
        "The file `salary.txt` contains data for 52 tenure-track professors at a small Midwestern college. This data was used in legal proceedings in the 1980s about discrimination against women in salary.\n",
        "\n",
        "The data in the file, by column:\n",
        "\n",
        "1. Sex. 1 for female, 0 for male.\n",
        "2. Rank. 1 for assistant professor, 2 for associate professor, 3 for full professor.\n",
        "3. Year. Number of years in current rank.\n",
        "4. Degree. Highest degree. 1 for doctorate, 0 for master's.\n",
        "5. YSdeg. Years since highest degree was earned.\n",
        "6. Salary. Salary/year in dollars.\n",
        "\n",
        "### Tasks\n",
        "\n",
        "1. Find the linear regression equation for this data using columns 1-5 to column 6.\n",
        "2. Find the selection of columns with the best $R^2$ score.\n",
        "3. Report whether sex is a factor in salary."
      ]
    },
    {
      "cell_type": "code",
      "execution_count": 38,
      "metadata": {
        "id": "_hPN3qNzVAK-"
      },
      "outputs": [],
      "source": [
        "df = pd.read_csv(\"/content/salary.csv\")"
      ]
    },
    {
      "cell_type": "code",
      "execution_count": 39,
      "metadata": {
        "colab": {
          "base_uri": "https://localhost:8080/",
          "height": 206
        },
        "id": "K7bLSGfZVAK_",
        "outputId": "053e3ceb-a110-4a6b-b2bd-5816bb8b30a9"
      },
      "outputs": [
        {
          "output_type": "execute_result",
          "data": {
            "text/html": [
              "\n",
              "  <div id=\"df-41f3e262-d25b-4568-ba68-c631b593e8d2\">\n",
              "    <div class=\"colab-df-container\">\n",
              "      <div>\n",
              "<style scoped>\n",
              "    .dataframe tbody tr th:only-of-type {\n",
              "        vertical-align: middle;\n",
              "    }\n",
              "\n",
              "    .dataframe tbody tr th {\n",
              "        vertical-align: top;\n",
              "    }\n",
              "\n",
              "    .dataframe thead th {\n",
              "        text-align: right;\n",
              "    }\n",
              "</style>\n",
              "<table border=\"1\" class=\"dataframe\">\n",
              "  <thead>\n",
              "    <tr style=\"text-align: right;\">\n",
              "      <th></th>\n",
              "      <th>Sex</th>\n",
              "      <th>Rank</th>\n",
              "      <th>Year</th>\n",
              "      <th>Degree</th>\n",
              "      <th>Ysdeg</th>\n",
              "      <th>Salary</th>\n",
              "    </tr>\n",
              "  </thead>\n",
              "  <tbody>\n",
              "    <tr>\n",
              "      <th>0</th>\n",
              "      <td>0</td>\n",
              "      <td>3</td>\n",
              "      <td>25</td>\n",
              "      <td>1</td>\n",
              "      <td>35</td>\n",
              "      <td>36350</td>\n",
              "    </tr>\n",
              "    <tr>\n",
              "      <th>1</th>\n",
              "      <td>0</td>\n",
              "      <td>3</td>\n",
              "      <td>13</td>\n",
              "      <td>1</td>\n",
              "      <td>22</td>\n",
              "      <td>35350</td>\n",
              "    </tr>\n",
              "    <tr>\n",
              "      <th>2</th>\n",
              "      <td>0</td>\n",
              "      <td>3</td>\n",
              "      <td>10</td>\n",
              "      <td>1</td>\n",
              "      <td>23</td>\n",
              "      <td>28200</td>\n",
              "    </tr>\n",
              "    <tr>\n",
              "      <th>3</th>\n",
              "      <td>1</td>\n",
              "      <td>3</td>\n",
              "      <td>7</td>\n",
              "      <td>1</td>\n",
              "      <td>27</td>\n",
              "      <td>26775</td>\n",
              "    </tr>\n",
              "    <tr>\n",
              "      <th>4</th>\n",
              "      <td>0</td>\n",
              "      <td>3</td>\n",
              "      <td>19</td>\n",
              "      <td>0</td>\n",
              "      <td>30</td>\n",
              "      <td>33696</td>\n",
              "    </tr>\n",
              "  </tbody>\n",
              "</table>\n",
              "</div>\n",
              "      <button class=\"colab-df-convert\" onclick=\"convertToInteractive('df-41f3e262-d25b-4568-ba68-c631b593e8d2')\"\n",
              "              title=\"Convert this dataframe to an interactive table.\"\n",
              "              style=\"display:none;\">\n",
              "        \n",
              "  <svg xmlns=\"http://www.w3.org/2000/svg\" height=\"24px\"viewBox=\"0 0 24 24\"\n",
              "       width=\"24px\">\n",
              "    <path d=\"M0 0h24v24H0V0z\" fill=\"none\"/>\n",
              "    <path d=\"M18.56 5.44l.94 2.06.94-2.06 2.06-.94-2.06-.94-.94-2.06-.94 2.06-2.06.94zm-11 1L8.5 8.5l.94-2.06 2.06-.94-2.06-.94L8.5 2.5l-.94 2.06-2.06.94zm10 10l.94 2.06.94-2.06 2.06-.94-2.06-.94-.94-2.06-.94 2.06-2.06.94z\"/><path d=\"M17.41 7.96l-1.37-1.37c-.4-.4-.92-.59-1.43-.59-.52 0-1.04.2-1.43.59L10.3 9.45l-7.72 7.72c-.78.78-.78 2.05 0 2.83L4 21.41c.39.39.9.59 1.41.59.51 0 1.02-.2 1.41-.59l7.78-7.78 2.81-2.81c.8-.78.8-2.07 0-2.86zM5.41 20L4 18.59l7.72-7.72 1.47 1.35L5.41 20z\"/>\n",
              "  </svg>\n",
              "      </button>\n",
              "      \n",
              "  <style>\n",
              "    .colab-df-container {\n",
              "      display:flex;\n",
              "      flex-wrap:wrap;\n",
              "      gap: 12px;\n",
              "    }\n",
              "\n",
              "    .colab-df-convert {\n",
              "      background-color: #E8F0FE;\n",
              "      border: none;\n",
              "      border-radius: 50%;\n",
              "      cursor: pointer;\n",
              "      display: none;\n",
              "      fill: #1967D2;\n",
              "      height: 32px;\n",
              "      padding: 0 0 0 0;\n",
              "      width: 32px;\n",
              "    }\n",
              "\n",
              "    .colab-df-convert:hover {\n",
              "      background-color: #E2EBFA;\n",
              "      box-shadow: 0px 1px 2px rgba(60, 64, 67, 0.3), 0px 1px 3px 1px rgba(60, 64, 67, 0.15);\n",
              "      fill: #174EA6;\n",
              "    }\n",
              "\n",
              "    [theme=dark] .colab-df-convert {\n",
              "      background-color: #3B4455;\n",
              "      fill: #D2E3FC;\n",
              "    }\n",
              "\n",
              "    [theme=dark] .colab-df-convert:hover {\n",
              "      background-color: #434B5C;\n",
              "      box-shadow: 0px 1px 3px 1px rgba(0, 0, 0, 0.15);\n",
              "      filter: drop-shadow(0px 1px 2px rgba(0, 0, 0, 0.3));\n",
              "      fill: #FFFFFF;\n",
              "    }\n",
              "  </style>\n",
              "\n",
              "      <script>\n",
              "        const buttonEl =\n",
              "          document.querySelector('#df-41f3e262-d25b-4568-ba68-c631b593e8d2 button.colab-df-convert');\n",
              "        buttonEl.style.display =\n",
              "          google.colab.kernel.accessAllowed ? 'block' : 'none';\n",
              "\n",
              "        async function convertToInteractive(key) {\n",
              "          const element = document.querySelector('#df-41f3e262-d25b-4568-ba68-c631b593e8d2');\n",
              "          const dataTable =\n",
              "            await google.colab.kernel.invokeFunction('convertToInteractive',\n",
              "                                                     [key], {});\n",
              "          if (!dataTable) return;\n",
              "\n",
              "          const docLinkHtml = 'Like what you see? Visit the ' +\n",
              "            '<a target=\"_blank\" href=https://colab.research.google.com/notebooks/data_table.ipynb>data table notebook</a>'\n",
              "            + ' to learn more about interactive tables.';\n",
              "          element.innerHTML = '';\n",
              "          dataTable['output_type'] = 'display_data';\n",
              "          await google.colab.output.renderOutput(dataTable, element);\n",
              "          const docLink = document.createElement('div');\n",
              "          docLink.innerHTML = docLinkHtml;\n",
              "          element.appendChild(docLink);\n",
              "        }\n",
              "      </script>\n",
              "    </div>\n",
              "  </div>\n",
              "  "
            ],
            "text/plain": [
              "   Sex  Rank  Year  Degree  Ysdeg  Salary\n",
              "0    0     3    25       1     35   36350\n",
              "1    0     3    13       1     22   35350\n",
              "2    0     3    10       1     23   28200\n",
              "3    1     3     7       1     27   26775\n",
              "4    0     3    19       0     30   33696"
            ]
          },
          "metadata": {},
          "execution_count": 39
        }
      ],
      "source": [
        "df.head()"
      ]
    },
    {
      "cell_type": "code",
      "execution_count": 40,
      "metadata": {
        "id": "UFXhsZpKVALA",
        "colab": {
          "base_uri": "https://localhost:8080/"
        },
        "outputId": "f7a93046-89b2-4af0-f467-f8545981662f"
      },
      "outputs": [
        {
          "output_type": "execute_result",
          "data": {
            "text/plain": [
              "Sex       0\n",
              "Rank      0\n",
              "Year      0\n",
              "Degree    0\n",
              "Ysdeg     0\n",
              "Salary    0\n",
              "dtype: int64"
            ]
          },
          "metadata": {},
          "execution_count": 40
        }
      ],
      "source": [
        "df.isnull().sum()"
      ]
    },
    {
      "cell_type": "code",
      "execution_count": 41,
      "metadata": {
        "id": "xKrVzB5TVALB"
      },
      "outputs": [],
      "source": [
        "x=df.drop(\"Salary\", axis='columns')\n",
        "y=df[\"Salary\"]"
      ]
    },
    {
      "cell_type": "code",
      "execution_count": 42,
      "metadata": {
        "id": "inVArmQBVALB"
      },
      "outputs": [],
      "source": [
        "x_train, x_test, y_train, y_test = train_test_split(x, y, test_size = 0.1, random_state = 2)"
      ]
    },
    {
      "cell_type": "code",
      "execution_count": 43,
      "metadata": {
        "id": "-SpNGtgBVALC",
        "colab": {
          "base_uri": "https://localhost:8080/"
        },
        "outputId": "b821801d-d15e-42be-df91-cb6572d73c3e"
      },
      "outputs": [
        {
          "output_type": "stream",
          "name": "stdout",
          "text": [
            "0.8416559098711703\n"
          ]
        }
      ],
      "source": [
        "mlr = LinearRegression()  \n",
        "mlr.fit(x_train, y_train)\n",
        "train_data_pred=mlr.predict(x_train)\n",
        "from sklearn import metrics\n",
        "error_score=metrics.r2_score(y_train,train_data_pred)\n",
        "print(error_score)"
      ]
    },
    {
      "cell_type": "code",
      "execution_count": 44,
      "metadata": {
        "id": "7KBpFzeHVALC",
        "colab": {
          "base_uri": "https://localhost:8080/",
          "height": 282
        },
        "outputId": "14393149-6bbb-4a3b-ee7f-5b0c774c3f72"
      },
      "outputs": [
        {
          "output_type": "execute_result",
          "data": {
            "text/plain": [
              "<matplotlib.collections.PathCollection at 0x7f5d5f7dbc50>"
            ]
          },
          "metadata": {},
          "execution_count": 44
        },
        {
          "output_type": "display_data",
          "data": {
            "image/png": "[encoded data removed]",
            "text/plain": [
              "<Figure size 432x288 with 1 Axes>"
            ]
          },
          "metadata": {
            "needs_background": "light"
          }
        }
      ],
      "source": [
        "plt.scatter(y_train,train_data_pred)"
      ]
    },
    {
      "cell_type": "code",
      "execution_count": 45,
      "metadata": {
        "id": "MAQ1dK1_VALD",
        "colab": {
          "base_uri": "https://localhost:8080/"
        },
        "outputId": "36ac8d5a-d6d0-4c20-d08b-67b873510d47"
      },
      "outputs": [
        {
          "output_type": "execute_result",
          "data": {
            "text/plain": [
              "array([16893.94642979, 18844.16352035, 19016.02391215, 16893.94642979,\n",
              "       17910.96727101, 33539.24216213])"
            ]
          },
          "metadata": {},
          "execution_count": 45
        }
      ],
      "source": [
        "y_pred_mlr= mlr.predict(x_test)\n",
        "y_pred_mlr"
      ]
    },
    {
      "cell_type": "code",
      "execution_count": 46,
      "metadata": {
        "id": "630kSxKhVALD",
        "colab": {
          "base_uri": "https://localhost:8080/",
          "height": 282
        },
        "outputId": "f7d1ed3d-339b-48a9-eeb0-1367e42b0968"
      },
      "outputs": [
        {
          "output_type": "execute_result",
          "data": {
            "text/plain": [
              "<matplotlib.collections.PathCollection at 0x7f5d5f643c50>"
            ]
          },
          "metadata": {},
          "execution_count": 46
        },
        {
          "output_type": "display_data",
          "data": {
            "image/png": "[encoded data removed]",
            "text/plain": [
              "<Figure size 432x288 with 1 Axes>"
            ]
          },
          "metadata": {
            "needs_background": "light"
          }
        }
      ],
      "source": [
        "plt.scatter(y_test,y_pred_mlr)"
      ]
    },
    {
      "cell_type": "code",
      "execution_count": 47,
      "metadata": {
        "colab": {
          "base_uri": "https://localhost:8080/",
          "height": 206
        },
        "id": "3c__Hu34VALE",
        "outputId": "71e3d83b-c1d7-4608-8314-4663123ec983"
      },
      "outputs": [
        {
          "output_type": "execute_result",
          "data": {
            "text/html": [
              "\n",
              "  <div id=\"df-29050e0a-29ec-4b21-958f-cdeb5b52b814\">\n",
              "    <div class=\"colab-df-container\">\n",
              "      <div>\n",
              "<style scoped>\n",
              "    .dataframe tbody tr th:only-of-type {\n",
              "        vertical-align: middle;\n",
              "    }\n",
              "\n",
              "    .dataframe tbody tr th {\n",
              "        vertical-align: top;\n",
              "    }\n",
              "\n",
              "    .dataframe thead th {\n",
              "        text-align: right;\n",
              "    }\n",
              "</style>\n",
              "<table border=\"1\" class=\"dataframe\">\n",
              "  <thead>\n",
              "    <tr style=\"text-align: right;\">\n",
              "      <th></th>\n",
              "      <th>Actual value</th>\n",
              "      <th>Predicted value</th>\n",
              "    </tr>\n",
              "  </thead>\n",
              "  <tbody>\n",
              "    <tr>\n",
              "      <th>37</th>\n",
              "      <td>17095</td>\n",
              "      <td>16893.946430</td>\n",
              "    </tr>\n",
              "    <tr>\n",
              "      <th>36</th>\n",
              "      <td>18304</td>\n",
              "      <td>18844.163520</td>\n",
              "    </tr>\n",
              "    <tr>\n",
              "      <th>32</th>\n",
              "      <td>23713</td>\n",
              "      <td>19016.023912</td>\n",
              "    </tr>\n",
              "    <tr>\n",
              "      <th>39</th>\n",
              "      <td>17600</td>\n",
              "      <td>16893.946430</td>\n",
              "    </tr>\n",
              "    <tr>\n",
              "      <th>47</th>\n",
              "      <td>15350</td>\n",
              "      <td>17910.967271</td>\n",
              "    </tr>\n",
              "  </tbody>\n",
              "</table>\n",
              "</div>\n",
              "      <button class=\"colab-df-convert\" onclick=\"convertToInteractive('df-29050e0a-29ec-4b21-958f-cdeb5b52b814')\"\n",
              "              title=\"Convert this dataframe to an interactive table.\"\n",
              "              style=\"display:none;\">\n",
              "        \n",
              "  <svg xmlns=\"http://www.w3.org/2000/svg\" height=\"24px\"viewBox=\"0 0 24 24\"\n",
              "       width=\"24px\">\n",
              "    <path d=\"M0 0h24v24H0V0z\" fill=\"none\"/>\n",
              "    <path d=\"M18.56 5.44l.94 2.06.94-2.06 2.06-.94-2.06-.94-.94-2.06-.94 2.06-2.06.94zm-11 1L8.5 8.5l.94-2.06 2.06-.94-2.06-.94L8.5 2.5l-.94 2.06-2.06.94zm10 10l.94 2.06.94-2.06 2.06-.94-2.06-.94-.94-2.06-.94 2.06-2.06.94z\"/><path d=\"M17.41 7.96l-1.37-1.37c-.4-.4-.92-.59-1.43-.59-.52 0-1.04.2-1.43.59L10.3 9.45l-7.72 7.72c-.78.78-.78 2.05 0 2.83L4 21.41c.39.39.9.59 1.41.59.51 0 1.02-.2 1.41-.59l7.78-7.78 2.81-2.81c.8-.78.8-2.07 0-2.86zM5.41 20L4 18.59l7.72-7.72 1.47 1.35L5.41 20z\"/>\n",
              "  </svg>\n",
              "      </button>\n",
              "      \n",
              "  <style>\n",
              "    .colab-df-container {\n",
              "      display:flex;\n",
              "      flex-wrap:wrap;\n",
              "      gap: 12px;\n",
              "    }\n",
              "\n",
              "    .colab-df-convert {\n",
              "      background-color: #E8F0FE;\n",
              "      border: none;\n",
              "      border-radius: 50%;\n",
              "      cursor: pointer;\n",
              "      display: none;\n",
              "      fill: #1967D2;\n",
              "      height: 32px;\n",
              "      padding: 0 0 0 0;\n",
              "      width: 32px;\n",
              "    }\n",
              "\n",
              "    .colab-df-convert:hover {\n",
              "      background-color: #E2EBFA;\n",
              "      box-shadow: 0px 1px 2px rgba(60, 64, 67, 0.3), 0px 1px 3px 1px rgba(60, 64, 67, 0.15);\n",
              "      fill: #174EA6;\n",
              "    }\n",
              "\n",
              "    [theme=dark] .colab-df-convert {\n",
              "      background-color: #3B4455;\n",
              "      fill: #D2E3FC;\n",
              "    }\n",
              "\n",
              "    [theme=dark] .colab-df-convert:hover {\n",
              "      background-color: #434B5C;\n",
              "      box-shadow: 0px 1px 3px 1px rgba(0, 0, 0, 0.15);\n",
              "      filter: drop-shadow(0px 1px 2px rgba(0, 0, 0, 0.3));\n",
              "      fill: #FFFFFF;\n",
              "    }\n",
              "  </style>\n",
              "\n",
              "      <script>\n",
              "        const buttonEl =\n",
              "          document.querySelector('#df-29050e0a-29ec-4b21-958f-cdeb5b52b814 button.colab-df-convert');\n",
              "        buttonEl.style.display =\n",
              "          google.colab.kernel.accessAllowed ? 'block' : 'none';\n",
              "\n",
              "        async function convertToInteractive(key) {\n",
              "          const element = document.querySelector('#df-29050e0a-29ec-4b21-958f-cdeb5b52b814');\n",
              "          const dataTable =\n",
              "            await google.colab.kernel.invokeFunction('convertToInteractive',\n",
              "                                                     [key], {});\n",
              "          if (!dataTable) return;\n",
              "\n",
              "          const docLinkHtml = 'Like what you see? Visit the ' +\n",
              "            '<a target=\"_blank\" href=https://colab.research.google.com/notebooks/data_table.ipynb>data table notebook</a>'\n",
              "            + ' to learn more about interactive tables.';\n",
              "          element.innerHTML = '';\n",
              "          dataTable['output_type'] = 'display_data';\n",
              "          await google.colab.output.renderOutput(dataTable, element);\n",
              "          const docLink = document.createElement('div');\n",
              "          docLink.innerHTML = docLinkHtml;\n",
              "          element.appendChild(docLink);\n",
              "        }\n",
              "      </script>\n",
              "    </div>\n",
              "  </div>\n",
              "  "
            ],
            "text/plain": [
              "    Actual value  Predicted value\n",
              "37         17095     16893.946430\n",
              "36         18304     18844.163520\n",
              "32         23713     19016.023912\n",
              "39         17600     16893.946430\n",
              "47         15350     17910.967271"
            ]
          },
          "metadata": {},
          "execution_count": 47
        }
      ],
      "source": [
        "mlr_diff = pd.DataFrame({'Actual value': y_test, 'Predicted value': y_pred_mlr})\n",
        "mlr_diff.head() "
      ]
    },
    {
      "cell_type": "code",
      "execution_count": 48,
      "metadata": {
        "colab": {
          "base_uri": "https://localhost:8080/"
        },
        "id": "ECeHpMRrVALF",
        "outputId": "29f9608f-eafa-4329-a2bc-c75f81a4055b"
      },
      "outputs": [
        {
          "output_type": "stream",
          "name": "stdout",
          "text": [
            "Intercept:  11145.951484209074\n",
            "Coefficients:\n"
          ]
        },
        {
          "output_type": "execute_result",
          "data": {
            "text/plain": [
              "[('Sex', 1620.4547588761363),\n",
              " ('Rank', 5885.541051525828),\n",
              " ('Year', 447.90120942534213),\n",
              " ('Degree', -1344.413941245155),\n",
              " ('Ysdeg', -146.18425060116738)]"
            ]
          },
          "metadata": {},
          "execution_count": 48
        }
      ],
      "source": [
        "print(\"Intercept: \", mlr.intercept_)\n",
        "print(\"Coefficients:\")\n",
        "list(zip(x, mlr.coef_))"
      ]
    },
    {
      "cell_type": "code",
      "execution_count": 49,
      "metadata": {
        "id": "AeB0CSfSVALF"
      },
      "outputs": [],
      "source": [
        "## 1. Find the linear regression equation for this data using columns 1-5 to column 6.\n",
        "Y=(x_test*mlr.coef_)+mlr.intercept_"
      ]
    },
    {
      "cell_type": "code",
      "execution_count": 50,
      "metadata": {
        "id": "zIJIXu8_VALG",
        "colab": {
          "base_uri": "https://localhost:8080/"
        },
        "outputId": "88e75f46-a005-49dc-9a5d-29543e86d266"
      },
      "outputs": [
        {
          "output_type": "stream",
          "name": "stdout",
          "text": [
            "0.8787350351714383\n"
          ]
        }
      ],
      "source": [
        "error_score=metrics.r2_score(y_test,y_pred_mlr)\n",
        "print(error_score)"
      ]
    },
    {
      "cell_type": "code",
      "execution_count": 51,
      "metadata": {
        "id": "jSWIm8pTVALG",
        "colab": {
          "base_uri": "https://localhost:8080/"
        },
        "outputId": "001be008-2364-445e-e15f-1aa6d1b95175"
      },
      "outputs": [
        {
          "output_type": "stream",
          "name": "stdout",
          "text": [
            "Coefficients:\n"
          ]
        },
        {
          "output_type": "execute_result",
          "data": {
            "text/plain": [
              "[('Sex', 1620.4547588761363),\n",
              " ('Rank', 5885.541051525828),\n",
              " ('Year', 447.90120942534213),\n",
              " ('Degree', -1344.413941245155),\n",
              " ('Ysdeg', -146.18425060116738)]"
            ]
          },
          "metadata": {},
          "execution_count": 51
        }
      ],
      "source": [
        "## 2.Find the selection of columns with the best  𝑅2  score.\n",
        "\n",
        "print(\"Coefficients:\")\n",
        "list(zip(x, mlr.coef_))\n",
        "\n",
        "## since the coeffecient value of degree and YSdeg have is negative,we can conclude that sex, Rank, Year are the best columns "
      ]
    },
    {
      "cell_type": "code",
      "execution_count": 52,
      "metadata": {
        "id": "UT4xrTm1VALH",
        "colab": {
          "base_uri": "https://localhost:8080/"
        },
        "outputId": "df12d37c-52a2-44d5-dd1e-b090f0ebfa98"
      },
      "outputs": [
        {
          "output_type": "execute_result",
          "data": {
            "text/plain": [
              "Rank      0.867488\n",
              "Year      0.700669\n",
              "Ysdeg     0.674854\n",
              "Degree   -0.069726\n",
              "Sex      -0.252782\n",
              "Name: Salary, dtype: float64"
            ]
          },
          "metadata": {},
          "execution_count": 52
        }
      ],
      "source": [
        "## 3.Report whether sex is a factor in salary.\n",
        "corr = df.corr()[\"Salary\"].sort_values(ascending=False)[1:]\n",
        "corr\n",
        "\n",
        "# -> From the resultgiven below, the correlation value between sex and salary is -0.252782\n",
        "# -> Since the corrrelation between sex and city is negative, we can conclude that sex is not a factor or a bad factor to predict the salary.  "
      ]
    }
  ],
  "metadata": {
    "colab": {
      "name": "T 6 - ASSIGNMENT_5_6_7(new).ipynb",
      "provenance": []
    },
    "kernelspec": {
      "display_name": "Python 3",
      "language": "python",
      "name": "python3"
    },
    "language_info": {
      "codemirror_mode": {
        "name": "ipython",
        "version": 3
      },
      "file_extension": ".py",
      "mimetype": "text/x-python",
      "name": "python",
      "nbconvert_exporter": "python",
      "pygments_lexer": "ipython3",
      "version": "3.8.8"
    }
  },
  "nbformat": 4,
  "nbformat_minor": 0
}